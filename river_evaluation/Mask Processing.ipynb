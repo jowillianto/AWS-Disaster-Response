{
 "cells": [
  {
   "cell_type": "code",
   "execution_count": 1,
   "id": "f9ec951b-6be5-4299-8d7e-9155c9e70906",
   "metadata": {},
   "outputs": [],
   "source": [
    "import os\n",
    "import sys\n",
    "import numpy as np\n",
    "import matplotlib.pyplot as plt\n",
    "from pycocotools.coco import COCO\n",
    "from PIL import Image"
   ]
  },
  {
   "cell_type": "code",
   "execution_count": 2,
   "id": "0beecd88-4862-49b5-b657-a53607fa21cb",
   "metadata": {},
   "outputs": [],
   "source": [
    "root_path = './River-Evaluation'\n",
    "save_path_img = root_path + '/train/img'\n",
    "save_path_mask = root_path + '/train/mask'"
   ]
  },
  {
   "cell_type": "code",
   "execution_count": 3,
   "id": "3b61c2be-ec38-4e73-b7a6-e1c4d78ad03a",
   "metadata": {},
   "outputs": [
    {
     "name": "stdout",
     "output_type": "stream",
     "text": [
      "loading annotations into memory...\n",
      "Done (t=0.03s)\n",
      "creating index...\n",
      "index created!\n"
     ]
    }
   ],
   "source": [
    "#processing image papua\n",
    "data_path = root_path + '/train-img-papua/'\n",
    "coco = COCO(data_path + 'labels_papua.json')\n",
    "\n",
    "for i in range(1, 279):\n",
    "    image_id = i\n",
    "    img = coco.imgs[image_id]\n",
    "    \n",
    "    #open image\n",
    "    image_name = img['file_name'] \n",
    "    try:\n",
    "        image_arr = np.array(Image.open(os.path.join(data_path, image_name)))\n",
    "    except:\n",
    "        continue\n",
    "    \n",
    "    cat_ids = coco.getCatIds()\n",
    "    anns_ids = coco.getAnnIds(imgIds=img['id'], catIds=cat_ids, iscrowd=None)\n",
    "    anns = coco.loadAnns(anns_ids)\n",
    "    \n",
    "    #create mask\n",
    "    mask_arr = np.zeros((img['height'],img['width']))\n",
    "    for ann in anns:\n",
    "        mask_arr = np.maximum(mask_arr,coco.annToMask(ann)*ann['category_id'])\n",
    "        \n",
    "    #save image and file to new dir\n",
    "    image = Image.fromarray(image_arr)\n",
    "    image.save(f'{save_path_img}/p-{image_name}')\n",
    "    mask = Image.fromarray(mask_arr)\n",
    "    mask = mask.convert(\"P\")\n",
    "    image_name = image_name[:-5]\n",
    "    mask.save(f'{save_path_mask}/pmask-{image_name}.png')\n",
    "    \n",
    "\n",
    "#processing data with empty mask\n",
    "directory = os.fsencode(data_path)\n",
    "    \n",
    "for file in os.listdir(directory):\n",
    "    image_name = os.fsdecode(file)\n",
    "    if image_name.endswith(\".jpeg\"):\n",
    "        if os.path.exists(f'{save_path_img}/p-{image_name}'):\n",
    "            continue\n",
    "        else:\n",
    "            image_arr = np.array(Image.open(os.path.join(data_path, image_name)))\n",
    "            image = Image.fromarray(image_arr)\n",
    "            image.save(f'{save_path_img}/p-{image_name}')\n",
    "          \n",
    "            mask_arr = np.zeros((img['height'],img['width']))\n",
    "            mask = Image.fromarray(mask_arr)\n",
    "            mask = mask.convert(\"P\")\n",
    "            image_name = image_name[:-5]\n",
    "            mask.save(f'{save_path_mask}/pmask-{image_name}.png')\n",
    "    else:\n",
    "        continue"
   ]
  },
  {
   "cell_type": "code",
   "execution_count": 4,
   "id": "cc8cb639-e049-450f-ad4a-762688fddeab",
   "metadata": {},
   "outputs": [
    {
     "name": "stdout",
     "output_type": "stream",
     "text": [
      "loading annotations into memory...\n",
      "Done (t=0.02s)\n",
      "creating index...\n",
      "index created!\n"
     ]
    }
   ],
   "source": [
    "#processing image canterbury\n",
    "data_path = root_path + '/train-img-canterbury/'\n",
    "coco = COCO(data_path + 'labels_canterbury.json')\n",
    "\n",
    "for i in range(1, 271):\n",
    "    image_id = i\n",
    "    img = coco.imgs[image_id]\n",
    "    \n",
    "    #open image\n",
    "    image_name = img['file_name'] \n",
    "    try:\n",
    "        image_arr = np.array(Image.open(os.path.join(data_path, image_name)))\n",
    "    except:\n",
    "        continue\n",
    "    \n",
    "    cat_ids = coco.getCatIds()\n",
    "    anns_ids = coco.getAnnIds(imgIds=img['id'], catIds=cat_ids, iscrowd=None)\n",
    "    anns = coco.loadAnns(anns_ids)\n",
    "    \n",
    "    #create mask\n",
    "    mask_arr = np.zeros((img['height'],img['width']))\n",
    "    for ann in anns:\n",
    "        mask_arr = np.maximum(mask_arr,coco.annToMask(ann)*ann['category_id'])\n",
    "        \n",
    "    #save image and file to new dir\n",
    "    image = Image.fromarray(image_arr)\n",
    "    image.save(f'{save_path_img}/c-{image_name}')\n",
    "    mask = Image.fromarray(mask_arr)\n",
    "    mask = mask.convert(\"P\")\n",
    "    image_name = image_name[:-5]\n",
    "    mask.save(f'{save_path_mask}/cmask-{image_name}.png')\n",
    "    \n",
    "#processing data with empty mask\n",
    "directory = os.fsencode(data_path)\n",
    "  \n",
    "for file in os.listdir(directory):\n",
    "    image_name = os.fsdecode(file)\n",
    "    if image_name.endswith(\".jpeg\"):\n",
    "        if os.path.exists(f'{save_path_img}/c-{image_name}'):\n",
    "            continue\n",
    "        else:\n",
    "            image_arr = np.array(Image.open(os.path.join(data_path, image_name)))\n",
    "            image = Image.fromarray(image_arr)\n",
    "            image.save(f'{save_path_img}/c-{image_name}')\n",
    "          \n",
    "            mask_arr = np.zeros((img['height'],img['width']))\n",
    "            mask = Image.fromarray(mask_arr)\n",
    "            mask = mask.convert(\"P\")\n",
    "            image_name = image_name[:-5]\n",
    "            mask.save(f'{save_path_mask}/cmask-{image_name}.png')\n",
    "    else:\n",
    "        continue"
   ]
  },
  {
   "cell_type": "code",
   "execution_count": 5,
   "id": "c3107abe-8b78-4d68-92c7-9835c7ac0c5c",
   "metadata": {
    "tags": []
   },
   "outputs": [
    {
     "name": "stdout",
     "output_type": "stream",
     "text": [
      "loading annotations into memory...\n",
      "Done (t=0.04s)\n",
      "creating index...\n",
      "index created!\n"
     ]
    }
   ],
   "source": [
    "#processing image bangladesh\n",
    "data_path = root_path + '/train-img-bangladesh/'\n",
    "coco = COCO(data_path + 'labels_bangladesh.json')\n",
    "\n",
    "for i in range(1, 277):\n",
    "    image_id = i\n",
    "    img = coco.imgs[image_id]\n",
    "    \n",
    "    #open image\n",
    "    image_name = img['file_name'] \n",
    "    try:\n",
    "        image_arr = np.array(Image.open(os.path.join(data_path, image_name)))\n",
    "    except:\n",
    "        continue\n",
    "    \n",
    "    cat_ids = coco.getCatIds()\n",
    "    anns_ids = coco.getAnnIds(imgIds=img['id'], catIds=cat_ids, iscrowd=None)\n",
    "    anns = coco.loadAnns(anns_ids)\n",
    "    \n",
    "    #create mask\n",
    "    mask_arr = np.zeros((img['height'],img['width']))\n",
    "    for ann in anns:\n",
    "        mask_arr = np.maximum(mask_arr,coco.annToMask(ann)*ann['category_id'])\n",
    "        \n",
    "    #save image and file to new dir\n",
    "    image = Image.fromarray(image_arr)\n",
    "    image.save(f'{save_path_img}/b-{image_name}')\n",
    "    mask = Image.fromarray(mask_arr)\n",
    "    mask = mask.convert(\"P\")\n",
    "    image_name = image_name[:-5]\n",
    "    mask.save(f'{save_path_mask}/bmask-{image_name}.png')\n",
    "    \n",
    "#processing data with empty mask\n",
    "directory = os.fsencode(data_path)\n",
    "  \n",
    "for file in os.listdir(directory):\n",
    "    image_name = os.fsdecode(file)\n",
    "    if image_name.endswith(\".jpeg\"):\n",
    "        if os.path.exists(f'{save_path_img}/b-{image_name}'):\n",
    "            continue\n",
    "        else:\n",
    "            image_arr = np.array(Image.open(os.path.join(data_path, image_name)))\n",
    "            image = Image.fromarray(image_arr)\n",
    "            image.save(f'{save_path_img}/b-{image_name}')\n",
    "          \n",
    "            mask_arr = np.zeros((img['height'],img['width']))\n",
    "            mask = Image.fromarray(mask_arr)\n",
    "            mask = mask.convert(\"P\")\n",
    "            image_name = image_name[:-5]\n",
    "            mask.save(f'{save_path_mask}/bmask-{image_name}.png')\n",
    "    else:\n",
    "        continue"
   ]
  },
  {
   "cell_type": "code",
   "execution_count": 6,
   "id": "4d8ead71-87e2-4d86-8a97-1f204884d168",
   "metadata": {},
   "outputs": [
    {
     "name": "stdout",
     "output_type": "stream",
     "text": [
      "num of training images 893\n",
      "num of masks 893\n"
     ]
    }
   ],
   "source": [
    "DIR = save_path_img\n",
    "print(\"num of training images\", len([name for name in os.listdir(DIR) if os.path.isfile(os.path.join(DIR, name))]))\n",
    "DIR = save_path_mask\n",
    "print(\"num of masks\", len([name for name in os.listdir(DIR) if os.path.isfile(os.path.join(DIR, name))]))"
   ]
  },
  {
   "cell_type": "code",
   "execution_count": null,
   "id": "56df331a-1285-4ac0-8f11-ab1dfe8a9f19",
   "metadata": {},
   "outputs": [],
   "source": []
  }
 ],
 "metadata": {
  "kernelspec": {
   "display_name": "default:Python",
   "language": "python",
   "name": "conda-env-default-py"
  },
  "language_info": {
   "codemirror_mode": {
    "name": "ipython",
    "version": 3
   },
   "file_extension": ".py",
   "mimetype": "text/x-python",
   "name": "python",
   "nbconvert_exporter": "python",
   "pygments_lexer": "ipython3",
   "version": "3.9.7"
  }
 },
 "nbformat": 4,
 "nbformat_minor": 5
}
